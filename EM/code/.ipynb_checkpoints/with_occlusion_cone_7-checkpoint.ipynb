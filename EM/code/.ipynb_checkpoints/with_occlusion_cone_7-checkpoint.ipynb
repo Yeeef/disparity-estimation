{
 "cells": [
  {
   "cell_type": "code",
   "execution_count": null,
   "metadata": {},
   "outputs": [],
   "source": [
    "\"\"\"\n",
    "occusion 恢复不是很理想\n",
    "增加 hist 的比重\n",
    "NUM_COLOR_BINS = 128\n",
    "C = 10 ** -5\n",
    "with occlusion\n",
    "sigma_d = 0.2\n",
    "sigma_v = 1\n",
    "argmax method\n",
    "not print free_energy\n",
    "针对出了图片的点采取特殊处理方式\n",
    "更改了 hist 的更新方式，为了解决黑边问题\n",
    "\"\"\"\n",
    "\n",
    "from EMUtils.EM import EM\n",
    "from EMUtils.config import *\n",
    "from PIL import Image\n",
    "from matplotlib import pyplot as plt"
   ]
  },
  {
   "cell_type": "code",
   "execution_count": null,
   "metadata": {},
   "outputs": [],
   "source": [
    "em = EM(\"C:\\\\Learn\\\\grade3\\\\paper_work\\\\EM\\\\result\\\\cone\\\\with_occlusion_7\")"
   ]
  },
  {
   "cell_type": "code",
   "execution_count": null,
   "metadata": {},
   "outputs": [],
   "source": [
    "[em.e_and_m() for _ in range(6)]"
   ]
  }
 ],
 "metadata": {
  "kernelspec": {
   "display_name": "Python 3",
   "language": "python",
   "name": "python3"
  },
  "language_info": {
   "codemirror_mode": {
    "name": "ipython",
    "version": 3
   },
   "file_extension": ".py",
   "mimetype": "text/x-python",
   "name": "python",
   "nbconvert_exporter": "python",
   "pygments_lexer": "ipython3",
   "version": "3.6.5"
  }
 },
 "nbformat": 4,
 "nbformat_minor": 2
}
