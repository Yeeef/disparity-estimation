{
 "cells": [
  {
   "cell_type": "code",
   "execution_count": 1,
   "metadata": {},
   "outputs": [],
   "source": [
    "\"\"\"\n",
    "sigma_d = 0.3 还是有点小\n",
    "C = 10 ** (-5) \n",
    "without occlusion\n",
    "sigma_d = 0.3\n",
    "sigma_v = 0.1\n",
    "argmax method\n",
    "not print free_energy\n",
    "\"\"\"\n",
    "\n",
    "from EMUtils.EM import EM\n",
    "from EMUtils.config import *\n",
    "from PIL import Image\n",
    "from matplotlib import pyplot as plt"
   ]
  },
  {
   "cell_type": "code",
   "execution_count": 2,
   "metadata": {},
   "outputs": [],
   "source": [
    "em = EM(\"/Users/yee/Desktop/paper_work/EM/result/cone/without_occlusion_6\")"
   ]
  },
  {
   "cell_type": "code",
   "execution_count": 3,
   "metadata": {},
   "outputs": [
    {
     "name": "stdout",
     "output_type": "stream",
     "text": [
      "124\n",
      " 0 E step finished\n",
      "covariance: 12.672773333333334\n",
      "\n",
      " 0 M step finished\n",
      "\n",
      " 0 save fig successfully in /Users/yee/Desktop/paper_work/EM/result/cone/without_occlusion_6\n",
      "124\n",
      " 1 E step finished\n",
      "covariance: 14.57952\n",
      "\n",
      " 1 M step finished\n",
      "\n",
      " 1 save fig successfully in /Users/yee/Desktop/paper_work/EM/result/cone/without_occlusion_6\n",
      "124\n",
      " 2 E step finished\n",
      "covariance: 16.904666666666667\n",
      "\n",
      " 2 M step finished\n",
      "\n",
      " 2 save fig successfully in /Users/yee/Desktop/paper_work/EM/result/cone/without_occlusion_6\n"
     ]
    },
    {
     "data": {
      "text/plain": [
       "[None, None, None]"
      ]
     },
     "execution_count": 3,
     "metadata": {},
     "output_type": "execute_result"
    }
   ],
   "source": [
    "[em.e_and_m() for _ in range(3)]"
   ]
  }
 ],
 "metadata": {
  "kernelspec": {
   "display_name": "Python [conda root]",
   "language": "python",
   "name": "conda-root-py"
  },
  "language_info": {
   "codemirror_mode": {
    "name": "ipython",
    "version": 3
   },
   "file_extension": ".py",
   "mimetype": "text/x-python",
   "name": "python",
   "nbconvert_exporter": "python",
   "pygments_lexer": "ipython3",
   "version": "3.6.5"
  }
 },
 "nbformat": 4,
 "nbformat_minor": 2
}
