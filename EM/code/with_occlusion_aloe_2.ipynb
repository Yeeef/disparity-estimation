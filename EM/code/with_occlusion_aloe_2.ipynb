{
 "cells": [
  {
   "cell_type": "code",
   "execution_count": 1,
   "metadata": {},
   "outputs": [],
   "source": [
    "\"\"\"\n",
    "occusion 恢复不是很理想\n",
    "C = 10 ** -5\n",
    "with occlusion\n",
    "sigma_d = 0.3\n",
    "sigma_v = 0.1\n",
    "argmax method\n",
    "not print free_energy\n",
    "更改了 hist 的更新方式，为了解决黑边问题\n",
    "\"\"\"\n",
    "\n",
    "from EMUtils.EM import EM\n",
    "from EMUtils.config import *\n",
    "from PIL import Image\n",
    "from matplotlib import pyplot as plt"
   ]
  },
  {
   "cell_type": "code",
   "execution_count": 2,
   "metadata": {},
   "outputs": [],
   "source": [
    "em = EM(\"C:\\\\Learn\\\\grade3\\\\paper_work\\\\EM\\\\result\\\\Aloe\\\\with_occlusion_2\")"
   ]
  },
  {
   "cell_type": "code",
   "execution_count": 3,
   "metadata": {},
   "outputs": [
    {
     "name": "stdout",
     "output_type": "stream",
     "text": [
      "122\n",
      " 0 E step finished\n",
      "covariance: 5.508775104034738\n",
      "\n",
      " 0 M step finished\n",
      "\n",
      " 0 save fig successfully in C:\\Learn\\grade3\\paper_work\\EM\\result\\Aloe\\with_occlusion_2\n",
      "122\n",
      " 1 E step finished\n",
      "covariance: 5.431186297569507\n",
      "\n",
      " 1 M step finished\n",
      "\n",
      " 1 save fig successfully in C:\\Learn\\grade3\\paper_work\\EM\\result\\Aloe\\with_occlusion_2\n",
      "122\n",
      " 2 E step finished\n",
      "covariance: 5.407200796067907\n",
      "\n",
      " 2 M step finished\n",
      "\n",
      " 2 save fig successfully in C:\\Learn\\grade3\\paper_work\\EM\\result\\Aloe\\with_occlusion_2\n",
      "122\n",
      " 3 E step finished\n",
      "covariance: 5.4059041703102855\n",
      "\n",
      " 3 M step finished\n",
      "\n",
      " 3 save fig successfully in C:\\Learn\\grade3\\paper_work\\EM\\result\\Aloe\\with_occlusion_2\n",
      "122\n",
      " 4 E step finished\n",
      "covariance: 5.410397129330881\n",
      "\n",
      " 4 M step finished\n",
      "\n",
      " 4 save fig successfully in C:\\Learn\\grade3\\paper_work\\EM\\result\\Aloe\\with_occlusion_2\n",
      "122\n",
      " 5 E step finished\n",
      "covariance: 5.4147091638271565\n",
      "\n",
      " 5 M step finished\n",
      "\n",
      " 5 save fig successfully in C:\\Learn\\grade3\\paper_work\\EM\\result\\Aloe\\with_occlusion_2\n"
     ]
    },
    {
     "data": {
      "text/plain": [
       "[None, None, None, None, None, None]"
      ]
     },
     "execution_count": 3,
     "metadata": {},
     "output_type": "execute_result"
    }
   ],
   "source": [
    "[em.e_and_m() for _ in range(6)]"
   ]
  },
  {
   "cell_type": "code",
   "execution_count": 4,
   "metadata": {},
   "outputs": [
    {
     "name": "stdout",
     "output_type": "stream",
     "text": [
      "122\n",
      " 6 E step finished\n",
      "covariance: 5.422458764285499\n",
      "\n",
      " 6 M step finished\n",
      "\n",
      " 6 save fig successfully in C:\\Learn\\grade3\\paper_work\\EM\\result\\Aloe\\with_occlusion_2\n",
      "122\n",
      " 7 E step finished\n",
      "covariance: 5.431203449627597\n",
      "\n",
      " 7 M step finished\n",
      "\n",
      " 7 save fig successfully in C:\\Learn\\grade3\\paper_work\\EM\\result\\Aloe\\with_occlusion_2\n",
      "122\n",
      " 8 E step finished\n",
      "covariance: 5.437596116153545\n",
      "\n",
      " 8 M step finished\n",
      "\n",
      " 8 save fig successfully in C:\\Learn\\grade3\\paper_work\\EM\\result\\Aloe\\with_occlusion_2\n"
     ]
    },
    {
     "data": {
      "text/plain": [
       "[None, None, None]"
      ]
     },
     "execution_count": 4,
     "metadata": {},
     "output_type": "execute_result"
    }
   ],
   "source": [
    "[em.e_and_m() for _ in range(3)]"
   ]
  },
  {
   "cell_type": "code",
   "execution_count": 7,
   "metadata": {},
   "outputs": [
    {
     "data": {
      "text/plain": [
       "array([[0., 0., 0., ..., 1., 1., 1.],\n",
       "       [0., 0., 0., ..., 1., 1., 1.],\n",
       "       [0., 0., 0., ..., 1., 1., 1.],\n",
       "       ...,\n",
       "       [0., 0., 0., ..., 1., 1., 1.],\n",
       "       [0., 0., 0., ..., 1., 1., 1.],\n",
       "       [0., 0., 0., ..., 1., 1., 1.]])"
      ]
     },
     "execution_count": 7,
     "metadata": {},
     "output_type": "execute_result"
    }
   ],
   "source": [
    "visible_image"
   ]
  },
  {
   "cell_type": "code",
   "execution_count": 9,
   "metadata": {},
   "outputs": [
    {
     "data": {
      "text/plain": [
       "array([0.        , 0.        , 0.        , 0.        , 0.        ,\n",
       "       0.        , 0.        , 0.        , 0.        , 0.        ,\n",
       "       0.        , 0.        , 0.        , 0.        , 0.        ,\n",
       "       0.        , 0.        , 0.        , 0.        , 0.        ,\n",
       "       0.        , 0.        , 0.        , 0.        , 0.        ,\n",
       "       0.        , 0.        , 0.        , 0.        , 0.        ,\n",
       "       0.        , 0.        , 0.        , 0.        , 0.        ,\n",
       "       0.        , 0.        , 0.        , 0.        , 0.        ,\n",
       "       0.        , 0.        , 0.        , 0.        , 0.        ,\n",
       "       0.        , 0.        , 0.        , 0.        , 0.        ,\n",
       "       0.        , 0.        , 0.        , 0.        , 0.        ,\n",
       "       0.        , 0.        , 0.        , 0.        , 0.        ,\n",
       "       0.        , 0.        , 0.        , 0.        , 0.        ,\n",
       "       0.        , 0.        , 0.        , 0.        , 0.        ,\n",
       "       0.        , 0.        , 0.        , 0.        , 0.00056529,\n",
       "       0.00056529, 0.        , 0.        , 0.        , 0.        ,\n",
       "       0.        , 0.        , 0.00056529, 0.        , 0.        ,\n",
       "       0.        , 0.        , 0.        , 0.        , 0.        ,\n",
       "       0.        , 0.        , 0.        , 0.00056529, 0.        ,\n",
       "       0.        , 0.        , 0.        , 0.        , 0.00056529,\n",
       "       0.00056529, 0.        , 0.        , 0.        , 0.00056529,\n",
       "       0.        , 0.        , 0.        , 0.00056529, 0.        ,\n",
       "       0.        , 0.        , 0.        , 0.        , 0.        ,\n",
       "       0.        , 0.        , 0.        , 0.        , 0.        ,\n",
       "       0.        , 0.00056529, 0.        , 0.00113058, 0.        ,\n",
       "       0.        , 0.        , 0.        , 0.00056529, 0.        ,\n",
       "       0.00056529, 0.        , 0.        , 0.00056529, 0.        ,\n",
       "       0.        , 0.00113058, 0.00056529, 0.00056529, 0.        ,\n",
       "       0.00056529, 0.00056529, 0.00056529, 0.00113058, 0.00339175,\n",
       "       0.00169587, 0.00282646, 0.00056529, 0.        , 0.00226116,\n",
       "       0.00339175, 0.00226116, 0.00113058, 0.00282646, 0.00226116,\n",
       "       0.00508762, 0.00282646, 0.00452233, 0.00169587, 0.00226116,\n",
       "       0.00226116, 0.00226116, 0.00056529, 0.00395704, 0.00339175,\n",
       "       0.00508762, 0.00395704, 0.00452233, 0.00339175, 0.00226116,\n",
       "       0.00339175, 0.00678349, 0.00395704, 0.00339175, 0.00508762,\n",
       "       0.00339175, 0.00734878, 0.00508762, 0.00565291, 0.00395704,\n",
       "       0.00395704, 0.00678349, 0.00734878, 0.01130582, 0.00339175,\n",
       "       0.00734878, 0.00960995, 0.00678349, 0.0062182 , 0.00734878,\n",
       "       0.0124364 , 0.01017524, 0.01074053, 0.01187111, 0.01639344,\n",
       "       0.01130582, 0.01074053, 0.01413228, 0.01865461, 0.01808932,\n",
       "       0.0192199 , 0.01469757, 0.01752402, 0.01978519, 0.01582815,\n",
       "       0.01413228, 0.02091577, 0.01695873, 0.02148106, 0.01582815,\n",
       "       0.0192199 , 0.02148106, 0.0130017 , 0.00960995, 0.01639344,\n",
       "       0.01469757, 0.02148106, 0.01752402, 0.02148106, 0.01413228,\n",
       "       0.01469757, 0.01130582, 0.01130582, 0.02148106, 0.01808932,\n",
       "       0.01639344, 0.01582815, 0.01526286, 0.02035048, 0.01356699,\n",
       "       0.01356699, 0.01582815, 0.01808932, 0.01130582, 0.0192199 ,\n",
       "       0.01639344, 0.01752402, 0.0192199 , 0.00960995, 0.0062182 ,\n",
       "       0.00734878, 0.00565291, 0.        , 0.        , 0.        ,\n",
       "       0.        , 0.        , 0.        , 0.        , 0.        ,\n",
       "       0.        , 0.        , 0.        , 0.        , 0.        ,\n",
       "       0.        ])"
      ]
     },
     "execution_count": 9,
     "metadata": {},
     "output_type": "execute_result"
    }
   ],
   "source": [
    "hist_mat[1]"
   ]
  },
  {
   "cell_type": "code",
   "execution_count": null,
   "metadata": {},
   "outputs": [],
   "source": []
  }
 ],
 "metadata": {
  "kernelspec": {
   "display_name": "Python 3",
   "language": "python",
   "name": "python3"
  },
  "language_info": {
   "codemirror_mode": {
    "name": "ipython",
    "version": 3
   },
   "file_extension": ".py",
   "mimetype": "text/x-python",
   "name": "python",
   "nbconvert_exporter": "python",
   "pygments_lexer": "ipython3",
   "version": "3.6.5"
  }
 },
 "nbformat": 4,
 "nbformat_minor": 2
}
