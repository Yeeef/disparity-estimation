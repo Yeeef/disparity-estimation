{
 "cells": [
  {
   "cell_type": "code",
   "execution_count": 1,
   "metadata": {},
   "outputs": [],
   "source": [
    "\"\"\"\n",
    "occusion 恢复不是很理想\n",
    "增加 hist 的比重\n",
    "NUM_COLOR_BINS = 256\n",
    "C = 10 ** -5\n",
    "with occlusion\n",
    "sigma_d = 0.4\n",
    "sigma_v = 0.1\n",
    "argmax method\n",
    "not print free_energy\n",
    "针对出了图片的点采取特殊处理方式\n",
    "更改了 hist 的更新方式，为了解决黑边问题\n",
    "\"\"\"\n",
    "\n",
    "from EMUtils.EM import EM\n",
    "from EMUtils.config import *\n",
    "from PIL import Image\n",
    "from matplotlib import pyplot as plt"
   ]
  },
  {
   "cell_type": "code",
   "execution_count": 2,
   "metadata": {},
   "outputs": [],
   "source": [
    "em = EM(\"C:\\\\Learn\\\\grade3\\\\paper_work\\\\EM\\\\result\\\\cone\\\\with_occlusion_3\")"
   ]
  },
  {
   "cell_type": "code",
   "execution_count": 3,
   "metadata": {},
   "outputs": [
    {
     "name": "stdout",
     "output_type": "stream",
     "text": [
      "124\n",
      " 0 E step finished\n",
      "covariance: 4.511637103152186\n",
      "\n",
      " 0 M step finished\n",
      "\n",
      " 0 save fig successfully in C:\\Learn\\grade3\\paper_work\\EM\\result\\cone\\with_occlusion_3\n",
      "124\n",
      " 1 E step finished\n",
      "covariance: 4.263070187826578\n",
      "\n",
      " 1 M step finished\n",
      "\n",
      " 1 save fig successfully in C:\\Learn\\grade3\\paper_work\\EM\\result\\cone\\with_occlusion_3\n",
      "124\n",
      " 2 E step finished\n",
      "covariance: 4.197508896797153\n",
      "\n",
      " 2 M step finished\n",
      "\n",
      " 2 save fig successfully in C:\\Learn\\grade3\\paper_work\\EM\\result\\cone\\with_occlusion_3\n",
      "124\n",
      " 3 E step finished\n",
      "covariance: 4.169994633829469\n",
      "\n",
      " 3 M step finished\n",
      "\n",
      " 3 save fig successfully in C:\\Learn\\grade3\\paper_work\\EM\\result\\cone\\with_occlusion_3\n",
      "124\n",
      " 4 E step finished\n",
      "covariance: 4.162594967096902\n",
      "\n",
      " 4 M step finished\n",
      "\n",
      " 4 save fig successfully in C:\\Learn\\grade3\\paper_work\\EM\\result\\cone\\with_occlusion_3\n",
      "124\n",
      " 5 E step finished\n",
      "covariance: 4.155727519204699\n",
      "\n",
      " 5 M step finished\n",
      "\n",
      " 5 save fig successfully in C:\\Learn\\grade3\\paper_work\\EM\\result\\cone\\with_occlusion_3\n"
     ]
    },
    {
     "data": {
      "text/plain": [
       "[None, None, None, None, None, None]"
      ]
     },
     "execution_count": 3,
     "metadata": {},
     "output_type": "execute_result"
    }
   ],
   "source": [
    "[em.e_and_m() for _ in range(6)]"
   ]
  }
 ],
 "metadata": {
  "kernelspec": {
   "display_name": "Python 3",
   "language": "python",
   "name": "python3"
  },
  "language_info": {
   "codemirror_mode": {
    "name": "ipython",
    "version": 3
   },
   "file_extension": ".py",
   "mimetype": "text/x-python",
   "name": "python",
   "nbconvert_exporter": "python",
   "pygments_lexer": "ipython3",
   "version": "3.6.5"
  }
 },
 "nbformat": 4,
 "nbformat_minor": 2
}
