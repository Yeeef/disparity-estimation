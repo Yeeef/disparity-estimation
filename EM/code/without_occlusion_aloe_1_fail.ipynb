{
 "cells": [
  {
   "cell_type": "code",
   "execution_count": 1,
   "metadata": {},
   "outputs": [],
   "source": [
    "\"\"\"\n",
    "without occlusion\n",
    "sigma_d = 300\n",
    "sigma_v = 30\n",
    "expectation method\n",
    "print free_energy\n",
    "\"\"\"\n",
    "\n",
    "from EMUtils.EM import EM\n",
    "from EMUtils.config import *\n",
    "from PIL import Image\n",
    "from matplotlib import pyplot as plt"
   ]
  },
  {
   "cell_type": "code",
   "execution_count": 2,
   "metadata": {},
   "outputs": [
    {
     "name": "stdout",
     "output_type": "stream",
     "text": [
      "sum1: -115450.21831034467\n",
      "sum3: -52716.07342079184\n",
      "sum2: -63.51075738246724\n",
      "free energy: 62797.655646935294\n"
     ]
    }
   ],
   "source": [
    "em = EM(\"/home/vradmin/Desktop/paper_work/EM/result/Aloe/without_occlusion_1/\")"
   ]
  },
  {
   "cell_type": "code",
   "execution_count": 3,
   "metadata": {},
   "outputs": [
    {
     "name": "stdout",
     "output_type": "stream",
     "text": [
      "122\n",
      " 0 E step finished\n",
      "covariance: 168.09435474636436\n",
      "\n",
      " 0 M step finished\n",
      "sum1: -211214.19003918648\n",
      "sum3: -52714.07587939641\n",
      "sum2: -63.475452220082055\n",
      "free energy: 158563.58961201017\n",
      "\n",
      " 0 save fig successfully in /home/vradmin/Desktop/paper_work/EM/result/Aloe/without_occlusion_1/\n",
      "122\n",
      " 1 E step finished\n",
      "covariance: 219.7564983396313\n",
      "\n",
      " 1 M step finished\n",
      "sum1: -220551.3521203315\n",
      "sum3: -66040.64718662291\n",
      "sum2: -72.7602275810374\n",
      "free energy: 154583.4651612896\n",
      "\n",
      " 1 save fig successfully in /home/vradmin/Desktop/paper_work/EM/result/Aloe/without_occlusion_1/\n",
      "122\n",
      " 2 E step finished\n",
      "covariance: 219.76093553189054\n",
      "\n",
      " 2 M step finished\n",
      "sum1: -220552.05583458045\n",
      "sum3: -66207.94405149388\n",
      "sum2: -73.20848017346935\n",
      "free energy: 154417.32026326004\n",
      "\n",
      " 2 save fig successfully in /home/vradmin/Desktop/paper_work/EM/result/Aloe/without_occlusion_1/\n"
     ]
    }
   ],
   "source": [
    "em.e_and_m()\n",
    "em.e_and_m()\n",
    "em.e_and_m()"
   ]
  },
  {
   "cell_type": "code",
   "execution_count": null,
   "metadata": {},
   "outputs": [],
   "source": []
  }
 ],
 "metadata": {
  "kernelspec": {
   "display_name": "Python 3",
   "language": "python",
   "name": "python3"
  },
  "language_info": {
   "codemirror_mode": {
    "name": "ipython",
    "version": 3
   },
   "file_extension": ".py",
   "mimetype": "text/x-python",
   "name": "python",
   "nbconvert_exporter": "python",
   "pygments_lexer": "ipython3",
   "version": "3.7.0"
  }
 },
 "nbformat": 4,
 "nbformat_minor": 2
}
