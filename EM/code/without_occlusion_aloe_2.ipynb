{
 "cells": [
  {
   "cell_type": "code",
   "execution_count": 1,
   "metadata": {},
   "outputs": [],
   "source": [
    "\"\"\"\n",
    "without occlusion\n",
    "sigma_d = 300\n",
    "sigma_v = 30\n",
    "argmax method\n",
    "print free_energy\n",
    "\"\"\"\n",
    "\n",
    "from EMUtils.EM import EM\n",
    "from EMUtils.config import *\n",
    "from PIL import Image\n",
    "from matplotlib import pyplot as plt"
   ]
  },
  {
   "cell_type": "code",
   "execution_count": 2,
   "metadata": {},
   "outputs": [],
   "source": [
    "em = EM(\"/home/vradmin/Desktop/paper_work/EM/result/Aloe/without_occlusion_2/\")"
   ]
  },
  {
   "cell_type": "code",
   "execution_count": 3,
   "metadata": {},
   "outputs": [
    {
     "name": "stdout",
     "output_type": "stream",
     "text": [
      "122\n",
      " 0 E step finished\n",
      "covariance: 9.465017748769037\n",
      "\n",
      " 0 M step finished\n",
      "\n",
      " 0 save fig successfully in /home/vradmin/Desktop/paper_work/EM/result/Aloe/without_occlusion_2/\n",
      "122\n",
      " 1 E step finished\n",
      "covariance: 6.168928203366541\n",
      "\n",
      " 1 M step finished\n",
      "\n",
      " 1 save fig successfully in /home/vradmin/Desktop/paper_work/EM/result/Aloe/without_occlusion_2/\n",
      "122\n",
      " 2 E step finished\n",
      "covariance: 6.924768120920646\n",
      "\n",
      " 2 M step finished\n",
      "\n",
      " 2 save fig successfully in /home/vradmin/Desktop/paper_work/EM/result/Aloe/without_occlusion_2/\n"
     ]
    }
   ],
   "source": [
    "em.e_and_m()\n",
    "em.e_and_m()\n",
    "em.e_and_m()"
   ]
  },
  {
   "cell_type": "code",
   "execution_count": null,
   "metadata": {},
   "outputs": [],
   "source": []
  }
 ],
 "metadata": {
  "kernelspec": {
   "display_name": "Python 3",
   "language": "python",
   "name": "python3"
  },
  "language_info": {
   "codemirror_mode": {
    "name": "ipython",
    "version": 3
   },
   "file_extension": ".py",
   "mimetype": "text/x-python",
   "name": "python",
   "nbconvert_exporter": "python",
   "pygments_lexer": "ipython3",
   "version": "3.7.0"
  }
 },
 "nbformat": 4,
 "nbformat_minor": 2
}
