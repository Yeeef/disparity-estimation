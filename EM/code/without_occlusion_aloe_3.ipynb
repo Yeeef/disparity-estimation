{
 "cells": [
  {
   "cell_type": "code",
   "execution_count": 1,
   "metadata": {},
   "outputs": [],
   "source": [
    "\"\"\"\n",
    "without occlusion\n",
    "sigma_d = 30\n",
    "sigma_v = 3\n",
    "argmax method\n",
    "print free_energy\n",
    "\"\"\"\n",
    "\n",
    "from EMUtils.EM import EM\n",
    "from EMUtils.config import *\n",
    "from PIL import Image\n",
    "from matplotlib import pyplot as plt"
   ]
  },
  {
   "cell_type": "code",
   "execution_count": 2,
   "metadata": {},
   "outputs": [
    {
     "name": "stdout",
     "output_type": "stream",
     "text": [
      "sum1: -115450.21831034467\n",
      "sum3: -52716.07342079184\n",
      "sum2: -635.107636224239\n",
      "free energy: 63369.252525777076\n"
     ]
    }
   ],
   "source": [
    "em = EM(\"/home/vradmin/Desktop/paper_work/EM/result/Aloe/without_occlusion_3/\")"
   ]
  },
  {
   "cell_type": "code",
   "execution_count": 3,
   "metadata": {},
   "outputs": [
    {
     "name": "stdout",
     "output_type": "stream",
     "text": [
      "122\n",
      " 0 E step finished\n",
      "covariance: 9.45514141761136\n",
      "\n",
      " 0 M step finished\n",
      "sum1: -112424.39685909089\n",
      "sum3: -52695.532775583575\n",
      "sum2: -631.5808201085555\n",
      "free energy: 60360.44490361588\n",
      "\n",
      " 0 save fig successfully in /home/vradmin/Desktop/paper_work/EM/result/Aloe/without_occlusion_3/\n",
      "122\n",
      " 1 E step finished\n",
      "covariance: 6.197727012481392\n",
      "\n",
      " 1 M step finished\n",
      "sum1: -98640.83784345005\n",
      "sum3: -51600.476990087096\n",
      "sum2: -621.188866394471\n",
      "free energy: 47661.54971975742\n",
      "\n",
      " 1 save fig successfully in /home/vradmin/Desktop/paper_work/EM/result/Aloe/without_occlusion_3/\n",
      "122\n",
      " 2 E step finished\n",
      "covariance: 6.943232566128478\n",
      "\n",
      " 2 M step finished\n",
      "sum1: -102305.99652313613\n",
      "sum3: -45841.43056656965\n",
      "sum2: -608.6524809186325\n",
      "free energy: 57073.21843748511\n",
      "\n",
      " 2 save fig successfully in /home/vradmin/Desktop/paper_work/EM/result/Aloe/without_occlusion_3/\n"
     ]
    }
   ],
   "source": [
    "em.e_and_m()\n",
    "em.e_and_m()\n",
    "em.e_and_m()"
   ]
  },
  {
   "cell_type": "code",
   "execution_count": null,
   "metadata": {},
   "outputs": [],
   "source": []
  }
 ],
 "metadata": {
  "kernelspec": {
   "display_name": "Python 3",
   "language": "python",
   "name": "python3"
  },
  "language_info": {
   "codemirror_mode": {
    "name": "ipython",
    "version": 3
   },
   "file_extension": ".py",
   "mimetype": "text/x-python",
   "name": "python",
   "nbconvert_exporter": "python",
   "pygments_lexer": "ipython3",
   "version": "3.7.0"
  }
 },
 "nbformat": 4,
 "nbformat_minor": 2
}
