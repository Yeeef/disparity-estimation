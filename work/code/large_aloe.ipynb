{
 "cells": [
  {
   "cell_type": "code",
   "execution_count": 1,
   "metadata": {
    "scrolled": true
   },
   "outputs": [
    {
     "name": "stdout",
     "output_type": "stream",
     "text": [
      "/home/vradmin/Desktop/paper_work/work/data/Aloe/\n",
      "large\n",
      "256\n",
      "1e-05\n",
      "0.3\n",
      "0.1\n",
      "0\n",
      "20\n"
     ]
    }
   ],
   "source": [
    "from EMUtils.config import *\n",
    "from EMUtils.EM import EM"
   ]
  },
  {
   "cell_type": "code",
   "execution_count": 2,
   "metadata": {},
   "outputs": [],
   "source": [
    "em = EM(\"/home/vradmin/Desktop/paper_work/work/result/Aloe/occlusion/large_1/\")"
   ]
  },
  {
   "cell_type": "code",
   "execution_count": 3,
   "metadata": {},
   "outputs": [
    {
     "name": "stdout",
     "output_type": "stream",
     "text": [
      "369\n",
      " 0 E step finished\n",
      "covariance: 9.705655421229192\n",
      "\n",
      " 0 M step finished\n",
      "\n",
      " 0 save fig successfully in /home/vradmin/Desktop/paper_work/work/result/Aloe/occlusion/large_1/\n",
      "Time elapsed: 2553.906691789627 s\n"
     ]
    }
   ],
   "source": [
    "em.e_and_m()"
   ]
  },
  {
   "cell_type": "code",
   "execution_count": 5,
   "metadata": {},
   "outputs": [
    {
     "name": "stdout",
     "output_type": "stream",
     "text": [
      "369\n",
      " 1 E step finished\n",
      "covariance: 8.829077789733528\n",
      "\n",
      " 1 M step finished\n",
      "\n",
      " 1 save fig successfully in /home/vradmin/Desktop/paper_work/work/result/Aloe/occlusion/large_1/\n",
      "Time elapsed: 2533.0430006980896 s\n"
     ]
    }
   ],
   "source": [
    "em.e_and_m()"
   ]
  },
  {
   "cell_type": "code",
   "execution_count": 6,
   "metadata": {},
   "outputs": [
    {
     "name": "stdout",
     "output_type": "stream",
     "text": [
      "369\n",
      " 2 E step finished\n",
      "covariance: 8.179574656623837\n",
      "\n",
      " 2 M step finished\n",
      "\n",
      " 2 save fig successfully in /home/vradmin/Desktop/paper_work/work/result/Aloe/occlusion/large_1/\n",
      "Time elapsed: 2522.2071993350983 s\n"
     ]
    }
   ],
   "source": [
    "em.e_and_m()"
   ]
  },
  {
   "cell_type": "code",
   "execution_count": null,
   "metadata": {},
   "outputs": [],
   "source": []
  }
 ],
 "metadata": {
  "kernelspec": {
   "display_name": "Python 3",
   "language": "python",
   "name": "python3"
  },
  "language_info": {
   "codemirror_mode": {
    "name": "ipython",
    "version": 3
   },
   "file_extension": ".py",
   "mimetype": "text/x-python",
   "name": "python",
   "nbconvert_exporter": "python",
   "pygments_lexer": "ipython3",
   "version": "3.7.0"
  }
 },
 "nbformat": 4,
 "nbformat_minor": 2
}
