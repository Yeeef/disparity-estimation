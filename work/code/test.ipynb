{
 "cells": [
  {
   "cell_type": "code",
   "execution_count": 1,
   "metadata": {},
   "outputs": [
    {
     "name": "stdout",
     "output_type": "stream",
     "text": [
      "/home/vradmin/Desktop/paper_work/work/data/Aloe/\n",
      "small\n",
      "256\n",
      "1e-10\n",
      "0.3\n",
      "1.0\n",
      "1\n",
      "10\n"
     ]
    }
   ],
   "source": [
    "from EMUtils.config import *\n",
    "from EMUtils.EM import EM"
   ]
  },
  {
   "cell_type": "code",
   "execution_count": 2,
   "metadata": {},
   "outputs": [],
   "source": [
    "em = EM(\"/home/vradmin/Desktop/paper_work/work/result/Aloe/test/\")"
   ]
  },
  {
   "cell_type": "code",
   "execution_count": 3,
   "metadata": {},
   "outputs": [
    {
     "name": "stdout",
     "output_type": "stream",
     "text": [
      "122\n",
      " 0 E step finished\n",
      "covariance: 5.835469960957986\n",
      "\n",
      " 0 M step finished\n",
      "\n",
      " 0 save fig successfully in /home/vradmin/Desktop/paper_work/work/result/Aloe/test/\n",
      "Time elapsed: 142.495352268219 s\n",
      "122\n",
      " 1 E step finished\n",
      "covariance: 5.7394098743791995\n",
      "\n",
      " 1 M step finished\n",
      "\n",
      " 1 save fig successfully in /home/vradmin/Desktop/paper_work/work/result/Aloe/test/\n",
      "Time elapsed: 141.00388979911804 s\n",
      "122\n",
      " 2 E step finished\n",
      "covariance: 5.701824668109246\n",
      "\n",
      " 2 M step finished\n",
      "\n",
      " 2 save fig successfully in /home/vradmin/Desktop/paper_work/work/result/Aloe/test/\n",
      "Time elapsed: 141.37295055389404 s\n",
      "122\n",
      " 3 E step finished\n",
      "covariance: 5.652991953182151\n",
      "\n",
      " 3 M step finished\n",
      "\n",
      " 3 save fig successfully in /home/vradmin/Desktop/paper_work/work/result/Aloe/test/\n",
      "Time elapsed: 140.8420648574829 s\n",
      "122\n",
      " 4 E step finished\n",
      "covariance: 5.6381707995432855\n",
      "\n",
      " 4 M step finished\n",
      "\n",
      " 4 save fig successfully in /home/vradmin/Desktop/paper_work/work/result/Aloe/test/\n",
      "Time elapsed: 140.90867018699646 s\n",
      "122\n",
      " 5 E step finished\n",
      "covariance: 5.62732518967689\n",
      "\n",
      " 5 M step finished\n",
      "\n",
      " 5 save fig successfully in /home/vradmin/Desktop/paper_work/work/result/Aloe/test/\n",
      "Time elapsed: 140.94146633148193 s\n",
      "122\n",
      " 6 E step finished\n",
      "covariance: 5.629352796341893\n",
      "\n",
      " 6 M step finished\n",
      "\n",
      " 6 save fig successfully in /home/vradmin/Desktop/paper_work/work/result/Aloe/test/\n",
      "Time elapsed: 141.00013399124146 s\n",
      "122\n",
      " 7 E step finished\n",
      "covariance: 5.625230985832869\n",
      "\n",
      " 7 M step finished\n",
      "\n",
      " 7 save fig successfully in /home/vradmin/Desktop/paper_work/work/result/Aloe/test/\n",
      "Time elapsed: 141.21665620803833 s\n",
      "122\n",
      " 8 E step finished\n",
      "covariance: 5.609268607654379\n",
      "\n",
      " 8 M step finished\n",
      "\n",
      " 8 save fig successfully in /home/vradmin/Desktop/paper_work/work/result/Aloe/test/\n",
      "Time elapsed: 140.38605642318726 s\n",
      "122\n",
      " 9 E step finished\n",
      "covariance: 5.5812641415180275\n",
      "\n",
      " 9 M step finished\n",
      "\n",
      " 9 save fig successfully in /home/vradmin/Desktop/paper_work/work/result/Aloe/test/\n",
      "Time elapsed: 141.22933626174927 s\n"
     ]
    },
    {
     "data": {
      "text/plain": [
       "[None, None, None, None, None, None, None, None, None, None]"
      ]
     },
     "execution_count": 3,
     "metadata": {},
     "output_type": "execute_result"
    }
   ],
   "source": [
    "[em.e_and_m() for _ in range(10)]"
   ]
  },
  {
   "cell_type": "code",
   "execution_count": 4,
   "metadata": {},
   "outputs": [
    {
     "name": "stdout",
     "output_type": "stream",
     "text": [
      "122\n",
      " 10 E step finished\n",
      "covariance: 5.578188876797741\n",
      "\n",
      " 10 M step finished\n",
      "\n",
      " 10 save fig successfully in /home/vradmin/Desktop/paper_work/work/result/Aloe/test/\n",
      "Time elapsed: 141.40596890449524 s\n",
      "122\n",
      " 11 E step finished\n",
      "covariance: 5.562685820258456\n",
      "\n",
      " 11 M step finished\n",
      "\n",
      " 11 save fig successfully in /home/vradmin/Desktop/paper_work/work/result/Aloe/test/\n",
      "Time elapsed: 141.54239320755005 s\n",
      "122\n",
      " 12 E step finished\n",
      "covariance: 5.559870359457867\n",
      "\n",
      " 12 M step finished\n",
      "\n",
      " 12 save fig successfully in /home/vradmin/Desktop/paper_work/work/result/Aloe/test/\n",
      "Time elapsed: 141.38195323944092 s\n",
      "122\n",
      " 13 E step finished\n",
      "covariance: 5.5602878716375645\n",
      "\n",
      " 13 M step finished\n",
      "\n",
      " 13 save fig successfully in /home/vradmin/Desktop/paper_work/work/result/Aloe/test/\n",
      "Time elapsed: 141.12272548675537 s\n",
      "122\n",
      " 14 E step finished\n",
      "covariance: 5.554095553062068\n",
      "\n",
      " 14 M step finished\n",
      "\n",
      " 14 save fig successfully in /home/vradmin/Desktop/paper_work/work/result/Aloe/test/\n",
      "Time elapsed: 141.15789008140564 s\n",
      "122\n",
      " 15 E step finished\n",
      "covariance: 5.553177020194553\n",
      "\n",
      " 15 M step finished\n",
      "\n",
      " 15 save fig successfully in /home/vradmin/Desktop/paper_work/work/result/Aloe/test/\n",
      "Time elapsed: 140.61289477348328 s\n",
      "122\n",
      " 16 E step finished\n",
      "covariance: 5.5401652207384595\n",
      "\n",
      " 16 M step finished\n",
      "\n",
      " 16 save fig successfully in /home/vradmin/Desktop/paper_work/work/result/Aloe/test/\n",
      "Time elapsed: 140.98982620239258 s\n",
      "122\n",
      " 17 E step finished\n",
      "covariance: 5.528502787993831\n",
      "\n",
      " 17 M step finished\n",
      "\n",
      " 17 save fig successfully in /home/vradmin/Desktop/paper_work/work/result/Aloe/test/\n",
      "Time elapsed: 141.1539716720581 s\n",
      "122\n",
      " 18 E step finished\n",
      "covariance: 5.519025694341304\n",
      "\n",
      " 18 M step finished\n",
      "\n",
      " 18 save fig successfully in /home/vradmin/Desktop/paper_work/work/result/Aloe/test/\n",
      "Time elapsed: 141.3353316783905 s\n",
      "122\n",
      " 19 E step finished\n",
      "covariance: 5.513191945031084\n",
      "\n",
      " 19 M step finished\n",
      "\n",
      " 19 save fig successfully in /home/vradmin/Desktop/paper_work/work/result/Aloe/test/\n",
      "Time elapsed: 140.88955879211426 s\n"
     ]
    },
    {
     "data": {
      "text/plain": [
       "[None, None, None, None, None, None, None, None, None, None]"
      ]
     },
     "execution_count": 4,
     "metadata": {},
     "output_type": "execute_result"
    }
   ],
   "source": [
    "[em.e_and_m() for _ in range(10)]"
   ]
  },
  {
   "cell_type": "code",
   "execution_count": null,
   "metadata": {},
   "outputs": [],
   "source": []
  }
 ],
 "metadata": {
  "kernelspec": {
   "display_name": "Python 3",
   "language": "python",
   "name": "python3"
  },
  "language_info": {
   "codemirror_mode": {
    "name": "ipython",
    "version": 3
   },
   "file_extension": ".py",
   "mimetype": "text/x-python",
   "name": "python",
   "nbconvert_exporter": "python",
   "pygments_lexer": "ipython3",
   "version": "3.7.0"
  }
 },
 "nbformat": 4,
 "nbformat_minor": 2
}
